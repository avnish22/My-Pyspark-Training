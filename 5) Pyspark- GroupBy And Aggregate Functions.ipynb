{
 "cells": [
  {
   "cell_type": "code",
   "execution_count": 1,
   "id": "e83927c7",
   "metadata": {},
   "outputs": [],
   "source": [
    "from pyspark.sql import SparkSession"
   ]
  },
  {
   "cell_type": "code",
   "execution_count": 2,
   "id": "cb810664",
   "metadata": {},
   "outputs": [],
   "source": [
    "spark = SparkSession.builder.appName('pract').getOrCreate()"
   ]
  },
  {
   "cell_type": "code",
   "execution_count": 3,
   "id": "3ff01f1b",
   "metadata": {},
   "outputs": [
    {
     "data": {
      "text/html": [
       "\n",
       "            <div>\n",
       "                <p><b>SparkSession - in-memory</b></p>\n",
       "                \n",
       "        <div>\n",
       "            <p><b>SparkContext</b></p>\n",
       "\n",
       "            <p><a href=\"http://Avnish-Device:4040\">Spark UI</a></p>\n",
       "\n",
       "            <dl>\n",
       "              <dt>Version</dt>\n",
       "                <dd><code>v3.3.2</code></dd>\n",
       "              <dt>Master</dt>\n",
       "                <dd><code>local[*]</code></dd>\n",
       "              <dt>AppName</dt>\n",
       "                <dd><code>pract</code></dd>\n",
       "            </dl>\n",
       "        </div>\n",
       "        \n",
       "            </div>\n",
       "        "
      ],
      "text/plain": [
       "<pyspark.sql.session.SparkSession at 0x13c80b0aeb0>"
      ]
     },
     "execution_count": 3,
     "metadata": {},
     "output_type": "execute_result"
    }
   ],
   "source": [
    "spark"
   ]
  },
  {
   "cell_type": "code",
   "execution_count": 4,
   "id": "92559959",
   "metadata": {},
   "outputs": [],
   "source": [
    "df_spark = spark.read.csv('test6.csv',header=True,inferSchema=True)"
   ]
  },
  {
   "cell_type": "code",
   "execution_count": 5,
   "id": "9d225580",
   "metadata": {},
   "outputs": [
    {
     "name": "stdout",
     "output_type": "stream",
     "text": [
      "+--------+------------+------+\n",
      "|    Name|  Department|Salary|\n",
      "+--------+------------+------+\n",
      "|  Avnish|    Big Data|  4000|\n",
      "|     Ram|Data Science|  5000|\n",
      "|    Sham|         IOT|  6000|\n",
      "|  Avnish|Data Science|  5000|\n",
      "|  Avnish|         IOT|  7000|\n",
      "|     Ram|    Big Data|  6000|\n",
      "|   Sunny|         IOT|  7000|\n",
      "|    Sham|Data Science| 10000|\n",
      "|Sudanshu|    Big Data|  7000|\n",
      "+--------+------------+------+\n",
      "\n"
     ]
    }
   ],
   "source": [
    "df_spark.show()"
   ]
  },
  {
   "cell_type": "code",
   "execution_count": 6,
   "id": "bf24081c",
   "metadata": {},
   "outputs": [
    {
     "name": "stdout",
     "output_type": "stream",
     "text": [
      "root\n",
      " |-- Name: string (nullable = true)\n",
      " |-- Department: string (nullable = true)\n",
      " |-- Salary: integer (nullable = true)\n",
      "\n"
     ]
    }
   ],
   "source": [
    "df_spark.printSchema()"
   ]
  },
  {
   "cell_type": "markdown",
   "id": "6d564378",
   "metadata": {},
   "source": [
    "### Groupby \n"
   ]
  },
  {
   "cell_type": "code",
   "execution_count": 9,
   "id": "d486df5c",
   "metadata": {},
   "outputs": [
    {
     "name": "stdout",
     "output_type": "stream",
     "text": [
      "+------------+-----------+\n",
      "|  Department|sum(Salary)|\n",
      "+------------+-----------+\n",
      "|         IOT|      20000|\n",
      "|    Big Data|      17000|\n",
      "|Data Science|      20000|\n",
      "+------------+-----------+\n",
      "\n"
     ]
    }
   ],
   "source": [
    "df_spark.groupBy('Department').sum().show()"
   ]
  },
  {
   "cell_type": "code",
   "execution_count": 10,
   "id": "335fc5d1",
   "metadata": {},
   "outputs": [
    {
     "name": "stdout",
     "output_type": "stream",
     "text": [
      "+--------+-----------+\n",
      "|    Name|sum(Salary)|\n",
      "+--------+-----------+\n",
      "|    Sham|      16000|\n",
      "|     Ram|      11000|\n",
      "|   Sunny|       7000|\n",
      "|Sudanshu|       7000|\n",
      "|  Avnish|      16000|\n",
      "+--------+-----------+\n",
      "\n"
     ]
    }
   ],
   "source": [
    "df_spark.groupBy('Name').sum().show()"
   ]
  },
  {
   "cell_type": "code",
   "execution_count": 22,
   "id": "3ed9c77a",
   "metadata": {},
   "outputs": [
    {
     "name": "stdout",
     "output_type": "stream",
     "text": [
      "+--------+-----------+\n",
      "|    Name|max(Salary)|\n",
      "+--------+-----------+\n",
      "|    Sham|      10000|\n",
      "|     Ram|       6000|\n",
      "|   Sunny|       7000|\n",
      "|Sudanshu|       7000|\n",
      "|  Avnish|       7000|\n",
      "+--------+-----------+\n",
      "\n"
     ]
    }
   ],
   "source": [
    "df_spark.groupBy('Name').max().show()"
   ]
  },
  {
   "cell_type": "code",
   "execution_count": 23,
   "id": "d4f416ca",
   "metadata": {},
   "outputs": [
    {
     "name": "stdout",
     "output_type": "stream",
     "text": [
      "+--------+-----------+\n",
      "|    Name|min(Salary)|\n",
      "+--------+-----------+\n",
      "|    Sham|       6000|\n",
      "|     Ram|       5000|\n",
      "|   Sunny|       7000|\n",
      "|Sudanshu|       7000|\n",
      "|  Avnish|       4000|\n",
      "+--------+-----------+\n",
      "\n"
     ]
    }
   ],
   "source": [
    "df_spark.groupBy('Name').min().show()"
   ]
  },
  {
   "cell_type": "code",
   "execution_count": 15,
   "id": "6c7ee64a",
   "metadata": {},
   "outputs": [
    {
     "name": "stdout",
     "output_type": "stream",
     "text": [
      "+--------+-----------+\n",
      "|    Name|sum(Salary)|\n",
      "+--------+-----------+\n",
      "|    Sham|      16000|\n",
      "|     Ram|      11000|\n",
      "|   Sunny|       7000|\n",
      "|Sudanshu|       7000|\n",
      "|  Avnish|      16000|\n",
      "+--------+-----------+\n",
      "\n"
     ]
    }
   ],
   "source": [
    "df_spark.groupBy(['Name']).sum().show()"
   ]
  },
  {
   "cell_type": "code",
   "execution_count": 17,
   "id": "f40363b6",
   "metadata": {},
   "outputs": [
    {
     "name": "stdout",
     "output_type": "stream",
     "text": [
      "+------------+-----------------+\n",
      "|  Department|      avg(Salary)|\n",
      "+------------+-----------------+\n",
      "|         IOT|6666.666666666667|\n",
      "|    Big Data|5666.666666666667|\n",
      "|Data Science|6666.666666666667|\n",
      "+------------+-----------------+\n",
      "\n"
     ]
    }
   ],
   "source": [
    "df_spark.groupBy('Department').mean().show()"
   ]
  },
  {
   "cell_type": "code",
   "execution_count": 20,
   "id": "fce0993a",
   "metadata": {},
   "outputs": [
    {
     "name": "stdout",
     "output_type": "stream",
     "text": [
      "+------------+-----+\n",
      "|  Department|count|\n",
      "+------------+-----+\n",
      "|         IOT|    3|\n",
      "|    Big Data|    3|\n",
      "|Data Science|    3|\n",
      "+------------+-----+\n",
      "\n"
     ]
    }
   ],
   "source": [
    "df_spark.groupBy('Department').count().show()"
   ]
  },
  {
   "cell_type": "markdown",
   "id": "309c334b",
   "metadata": {},
   "source": [
    "### aggregate"
   ]
  },
  {
   "cell_type": "code",
   "execution_count": 21,
   "id": "16fb16ee",
   "metadata": {},
   "outputs": [
    {
     "name": "stdout",
     "output_type": "stream",
     "text": [
      "+-----------+\n",
      "|sum(Salary)|\n",
      "+-----------+\n",
      "|      57000|\n",
      "+-----------+\n",
      "\n"
     ]
    }
   ],
   "source": [
    "df_spark.agg({'Salary':'sum'}).show()"
   ]
  },
  {
   "cell_type": "markdown",
   "id": "666225d7",
   "metadata": {},
   "source": [
    "### Great"
   ]
  }
 ],
 "metadata": {
  "kernelspec": {
   "display_name": "Python 3 (ipykernel)",
   "language": "python",
   "name": "python3"
  },
  "language_info": {
   "codemirror_mode": {
    "name": "ipython",
    "version": 3
   },
   "file_extension": ".py",
   "mimetype": "text/x-python",
   "name": "python",
   "nbconvert_exporter": "python",
   "pygments_lexer": "ipython3",
   "version": "3.9.13"
  }
 },
 "nbformat": 4,
 "nbformat_minor": 5
}
