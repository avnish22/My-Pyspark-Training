{
 "cells": [
  {
   "cell_type": "markdown",
   "id": "d20e8b12",
   "metadata": {},
   "source": [
    "###  Pyspark Dataframes\n",
    "- Filter Operation\n",
    "- &,|,==\n",
    "- ~"
   ]
  },
  {
   "cell_type": "code",
   "execution_count": 3,
   "id": "ec2b62d5",
   "metadata": {},
   "outputs": [],
   "source": [
    "from pyspark.sql import SparkSession"
   ]
  },
  {
   "cell_type": "code",
   "execution_count": 4,
   "id": "e3f1bb8b",
   "metadata": {},
   "outputs": [],
   "source": [
    "spark=SparkSession.builder.appName('Operation').getOrCreate()"
   ]
  },
  {
   "cell_type": "code",
   "execution_count": 14,
   "id": "ccf7b082",
   "metadata": {},
   "outputs": [
    {
     "data": {
      "text/html": [
       "\n",
       "            <div>\n",
       "                <p><b>SparkSession - in-memory</b></p>\n",
       "                \n",
       "        <div>\n",
       "            <p><b>SparkContext</b></p>\n",
       "\n",
       "            <p><a href=\"http://Avnish-Device:4040\">Spark UI</a></p>\n",
       "\n",
       "            <dl>\n",
       "              <dt>Version</dt>\n",
       "                <dd><code>v3.3.2</code></dd>\n",
       "              <dt>Master</dt>\n",
       "                <dd><code>local[*]</code></dd>\n",
       "              <dt>AppName</dt>\n",
       "                <dd><code>Operation</code></dd>\n",
       "            </dl>\n",
       "        </div>\n",
       "        \n",
       "            </div>\n",
       "        "
      ],
      "text/plain": [
       "<pyspark.sql.session.SparkSession at 0x1fb4ebaf280>"
      ]
     },
     "execution_count": 14,
     "metadata": {},
     "output_type": "execute_result"
    }
   ],
   "source": [
    "spark"
   ]
  },
  {
   "cell_type": "code",
   "execution_count": 5,
   "id": "2906f4e3",
   "metadata": {},
   "outputs": [],
   "source": [
    "df_spark = spark.read.csv('test5.csv',header=True,inferSchema=True)"
   ]
  },
  {
   "cell_type": "code",
   "execution_count": 6,
   "id": "fedcfb9f",
   "metadata": {},
   "outputs": [
    {
     "name": "stdout",
     "output_type": "stream",
     "text": [
      "+-------+---+---+------+\n",
      "|   Name|Age|Exp|Salary|\n",
      "+-------+---+---+------+\n",
      "|   Shiv| 40| 20|250000|\n",
      "| Shakti| 30|  8| 70000|\n",
      "| Krishn| 35| 17|200000|\n",
      "|Shambhu| 38| 18|210000|\n",
      "|    Ram| 37| 15|180000|\n",
      "|   Sham| 27|  9| 80000|\n",
      "|   Dham| 24|  4| 50000|\n",
      "+-------+---+---+------+\n",
      "\n"
     ]
    }
   ],
   "source": [
    "df_spark.show()"
   ]
  },
  {
   "cell_type": "markdown",
   "id": "990f8f85",
   "metadata": {},
   "source": [
    "### Filter Operation"
   ]
  },
  {
   "cell_type": "code",
   "execution_count": 7,
   "id": "fe0c2d89",
   "metadata": {},
   "outputs": [
    {
     "name": "stdout",
     "output_type": "stream",
     "text": [
      "+------+---+---+------+\n",
      "|  Name|Age|Exp|Salary|\n",
      "+------+---+---+------+\n",
      "|Shakti| 30|  8| 70000|\n",
      "|   Ram| 37| 15|180000|\n",
      "|  Sham| 27|  9| 80000|\n",
      "|  Dham| 24|  4| 50000|\n",
      "+------+---+---+------+\n",
      "\n"
     ]
    }
   ],
   "source": [
    "### Experience of people less than or equal to 15\n",
    "df_spark.filter(\"Exp<=15\").show()"
   ]
  },
  {
   "cell_type": "code",
   "execution_count": 8,
   "id": "5b5768af",
   "metadata": {},
   "outputs": [
    {
     "name": "stdout",
     "output_type": "stream",
     "text": [
      "+-------+---+---+------+\n",
      "|   Name|Age|Exp|Salary|\n",
      "+-------+---+---+------+\n",
      "|   Shiv| 40| 20|250000|\n",
      "| Krishn| 35| 17|200000|\n",
      "|Shambhu| 38| 18|210000|\n",
      "|    Ram| 37| 15|180000|\n",
      "+-------+---+---+------+\n",
      "\n"
     ]
    }
   ],
   "source": [
    "## Experience of people more than or equal to 15\n",
    "df_spark.filter(\"Exp>=15\").show()"
   ]
  },
  {
   "cell_type": "code",
   "execution_count": 9,
   "id": "5be01414",
   "metadata": {},
   "outputs": [
    {
     "name": "stdout",
     "output_type": "stream",
     "text": [
      "+-------+---+---+------+\n",
      "|   Name|Age|Exp|Salary|\n",
      "+-------+---+---+------+\n",
      "|   Shiv| 40| 20|250000|\n",
      "| Krishn| 35| 17|200000|\n",
      "|Shambhu| 38| 18|210000|\n",
      "|    Ram| 37| 15|180000|\n",
      "+-------+---+---+------+\n",
      "\n"
     ]
    }
   ],
   "source": [
    "df_spark.filter(df_spark['Exp']>=15).show()"
   ]
  },
  {
   "cell_type": "code",
   "execution_count": 10,
   "id": "43625e9e",
   "metadata": {},
   "outputs": [
    {
     "name": "stdout",
     "output_type": "stream",
     "text": [
      "+-------+------+\n",
      "|   Name|Salary|\n",
      "+-------+------+\n",
      "|   Shiv|250000|\n",
      "| Krishn|200000|\n",
      "|Shambhu|210000|\n",
      "|    Ram|180000|\n",
      "+-------+------+\n",
      "\n"
     ]
    }
   ],
   "source": [
    "df_spark.filter(df_spark['Exp']>=15).select(['Name','Salary']).show()"
   ]
  },
  {
   "cell_type": "code",
   "execution_count": 12,
   "id": "2927d064",
   "metadata": {},
   "outputs": [
    {
     "name": "stdout",
     "output_type": "stream",
     "text": [
      "+-------+---+---+------+\n",
      "|   Name|Age|Exp|Salary|\n",
      "+-------+---+---+------+\n",
      "|   Shiv| 40| 20|250000|\n",
      "| Krishn| 35| 17|200000|\n",
      "|Shambhu| 38| 18|210000|\n",
      "+-------+---+---+------+\n",
      "\n"
     ]
    }
   ],
   "source": [
    "df_spark.filter((df_spark['Exp']<=20) & \n",
    "               (df_spark['Exp']>15)).show()"
   ]
  },
  {
   "cell_type": "code",
   "execution_count": 13,
   "id": "d5ebef25",
   "metadata": {},
   "outputs": [
    {
     "name": "stdout",
     "output_type": "stream",
     "text": [
      "+-------+---+---+------+\n",
      "|   Name|Age|Exp|Salary|\n",
      "+-------+---+---+------+\n",
      "|   Shiv| 40| 20|250000|\n",
      "| Shakti| 30|  8| 70000|\n",
      "| Krishn| 35| 17|200000|\n",
      "|Shambhu| 38| 18|210000|\n",
      "|    Ram| 37| 15|180000|\n",
      "|   Sham| 27|  9| 80000|\n",
      "|   Dham| 24|  4| 50000|\n",
      "+-------+---+---+------+\n",
      "\n"
     ]
    }
   ],
   "source": [
    "df_spark.filter((df_spark['Exp']<=20) |\n",
    "               (df_spark['Exp']>15)).show()"
   ]
  },
  {
   "cell_type": "code",
   "execution_count": 16,
   "id": "b30bc160",
   "metadata": {},
   "outputs": [
    {
     "name": "stdout",
     "output_type": "stream",
     "text": [
      "+------+---+---+------+\n",
      "|  Name|Age|Exp|Salary|\n",
      "+------+---+---+------+\n",
      "|Shakti| 30|  8| 70000|\n",
      "|  Sham| 27|  9| 80000|\n",
      "|  Dham| 24|  4| 50000|\n",
      "+------+---+---+------+\n",
      "\n"
     ]
    }
   ],
   "source": [
    "df_spark.filter(~(df_spark['Exp']>=15)).show()"
   ]
  },
  {
   "cell_type": "markdown",
   "id": "374ba39e",
   "metadata": {},
   "source": [
    "### Great"
   ]
  }
 ],
 "metadata": {
  "kernelspec": {
   "display_name": "Python 3 (ipykernel)",
   "language": "python",
   "name": "python3"
  },
  "language_info": {
   "codemirror_mode": {
    "name": "ipython",
    "version": 3
   },
   "file_extension": ".py",
   "mimetype": "text/x-python",
   "name": "python",
   "nbconvert_exporter": "python",
   "pygments_lexer": "ipython3",
   "version": "3.9.13"
  }
 },
 "nbformat": 4,
 "nbformat_minor": 5
}
