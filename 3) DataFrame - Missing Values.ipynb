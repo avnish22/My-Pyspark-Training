{
 "cells": [
  {
   "cell_type": "markdown",
   "id": "ed3c3dc7",
   "metadata": {},
   "source": [
    "### Pyspark Handling Missing Values\n",
    "- Dropping Columns\n",
    "- Dropping Rows\n",
    "- Various Parameter In Dropping functionalities\n",
    "- Handling Missing values by Mean, Median and Mode"
   ]
  },
  {
   "cell_type": "code",
   "execution_count": 1,
   "id": "102af9b0",
   "metadata": {},
   "outputs": [],
   "source": [
    "from pyspark.sql import SparkSession"
   ]
  },
  {
   "cell_type": "code",
   "execution_count": 2,
   "id": "ae6efeb0",
   "metadata": {},
   "outputs": [],
   "source": [
    "spark = SparkSession.builder.appName('Missing').getOrCreate()"
   ]
  },
  {
   "cell_type": "code",
   "execution_count": 3,
   "id": "e0853980",
   "metadata": {},
   "outputs": [],
   "source": [
    "df_spark = spark.read.csv('test3.csv',header=True, inferSchema=True)"
   ]
  },
  {
   "cell_type": "code",
   "execution_count": 4,
   "id": "f33211fc",
   "metadata": {},
   "outputs": [
    {
     "name": "stdout",
     "output_type": "stream",
     "text": [
      "+-------+----+----------+-------+\n",
      "|   Name| Age|Experience| Salary|\n",
      "+-------+----+----------+-------+\n",
      "|    Ram|  23|         5|  40000|\n",
      "|   Sham|  27|         6|  42000|\n",
      "|  Teena|  29|        10|  80000|\n",
      "|  Meena|  22|         2|  25000|\n",
      "|  Reena|  32|        15| 120000|\n",
      "|   Shiv|null|      null|1000000|\n",
      "|Shankar|  36|        22| 150000|\n",
      "|   null|  21|         2|  25000|\n",
      "|   null|  25|         4|  35000|\n",
      "+-------+----+----------+-------+\n",
      "\n"
     ]
    }
   ],
   "source": [
    "df_spark.show()"
   ]
  },
  {
   "cell_type": "code",
   "execution_count": 5,
   "id": "8b4abb4f",
   "metadata": {},
   "outputs": [
    {
     "name": "stdout",
     "output_type": "stream",
     "text": [
      "+----+----------+-------+\n",
      "| Age|Experience| Salary|\n",
      "+----+----------+-------+\n",
      "|  23|         5|  40000|\n",
      "|  27|         6|  42000|\n",
      "|  29|        10|  80000|\n",
      "|  22|         2|  25000|\n",
      "|  32|        15| 120000|\n",
      "|null|      null|1000000|\n",
      "|  36|        22| 150000|\n",
      "|  21|         2|  25000|\n",
      "|  25|         4|  35000|\n",
      "+----+----------+-------+\n",
      "\n"
     ]
    }
   ],
   "source": [
    "##drop the columns\n",
    "df_spark.drop('Name').show()"
   ]
  },
  {
   "cell_type": "code",
   "execution_count": 6,
   "id": "5a28fd2e",
   "metadata": {},
   "outputs": [
    {
     "name": "stdout",
     "output_type": "stream",
     "text": [
      "+-------+----+----------+-------+\n",
      "|   Name| Age|Experience| Salary|\n",
      "+-------+----+----------+-------+\n",
      "|    Ram|  23|         5|  40000|\n",
      "|   Sham|  27|         6|  42000|\n",
      "|  Teena|  29|        10|  80000|\n",
      "|  Meena|  22|         2|  25000|\n",
      "|  Reena|  32|        15| 120000|\n",
      "|   Shiv|null|      null|1000000|\n",
      "|Shankar|  36|        22| 150000|\n",
      "|   null|  21|         2|  25000|\n",
      "|   null|  25|         4|  35000|\n",
      "+-------+----+----------+-------+\n",
      "\n"
     ]
    }
   ],
   "source": [
    "df_spark.show()"
   ]
  },
  {
   "cell_type": "code",
   "execution_count": 7,
   "id": "1c0804bb",
   "metadata": {},
   "outputs": [
    {
     "name": "stdout",
     "output_type": "stream",
     "text": [
      "+-------+---+----------+------+\n",
      "|   Name|Age|Experience|Salary|\n",
      "+-------+---+----------+------+\n",
      "|    Ram| 23|         5| 40000|\n",
      "|   Sham| 27|         6| 42000|\n",
      "|  Teena| 29|        10| 80000|\n",
      "|  Meena| 22|         2| 25000|\n",
      "|  Reena| 32|        15|120000|\n",
      "|Shankar| 36|        22|150000|\n",
      "+-------+---+----------+------+\n",
      "\n"
     ]
    }
   ],
   "source": [
    "df_spark.na.drop().show() ## how = \"any\" is default"
   ]
  },
  {
   "cell_type": "code",
   "execution_count": 8,
   "id": "632566cd",
   "metadata": {},
   "outputs": [
    {
     "name": "stdout",
     "output_type": "stream",
     "text": [
      "+-------+---+----------+------+\n",
      "|   Name|Age|Experience|Salary|\n",
      "+-------+---+----------+------+\n",
      "|    Ram| 23|         5| 40000|\n",
      "|   Sham| 27|         6| 42000|\n",
      "|  Teena| 29|        10| 80000|\n",
      "|  Meena| 22|         2| 25000|\n",
      "|  Reena| 32|        15|120000|\n",
      "|Shankar| 36|        22|150000|\n",
      "+-------+---+----------+------+\n",
      "\n"
     ]
    }
   ],
   "source": [
    "## how = 'any'\n",
    "df_spark.na.drop(how=\"any\").show()"
   ]
  },
  {
   "cell_type": "code",
   "execution_count": 9,
   "id": "c3bdd71a",
   "metadata": {},
   "outputs": [
    {
     "name": "stdout",
     "output_type": "stream",
     "text": [
      "+-------+----+----------+-------+\n",
      "|   Name| Age|Experience| Salary|\n",
      "+-------+----+----------+-------+\n",
      "|    Ram|  23|         5|  40000|\n",
      "|   Sham|  27|         6|  42000|\n",
      "|  Teena|  29|        10|  80000|\n",
      "|  Meena|  22|         2|  25000|\n",
      "|  Reena|  32|        15| 120000|\n",
      "|   Shiv|null|      null|1000000|\n",
      "|Shankar|  36|        22| 150000|\n",
      "|   null|  21|         2|  25000|\n",
      "|   null|  25|         4|  35000|\n",
      "+-------+----+----------+-------+\n",
      "\n"
     ]
    }
   ],
   "source": [
    "df_spark.show()"
   ]
  },
  {
   "cell_type": "code",
   "execution_count": 10,
   "id": "d3d8b2e9",
   "metadata": {},
   "outputs": [
    {
     "name": "stdout",
     "output_type": "stream",
     "text": [
      "+-------+---+----------+------+\n",
      "|   Name|Age|Experience|Salary|\n",
      "+-------+---+----------+------+\n",
      "|    Ram| 23|         5| 40000|\n",
      "|   Sham| 27|         6| 42000|\n",
      "|  Teena| 29|        10| 80000|\n",
      "|  Meena| 22|         2| 25000|\n",
      "|  Reena| 32|        15|120000|\n",
      "|Shankar| 36|        22|150000|\n",
      "|   null| 21|         2| 25000|\n",
      "|   null| 25|         4| 35000|\n",
      "+-------+---+----------+------+\n",
      "\n"
     ]
    }
   ],
   "source": [
    "### threshold\n",
    "df_spark.na.drop(how='any',thresh=3).show()"
   ]
  },
  {
   "cell_type": "code",
   "execution_count": 11,
   "id": "c1db4c4e",
   "metadata": {},
   "outputs": [
    {
     "name": "stdout",
     "output_type": "stream",
     "text": [
      "+-------+----+----------+-------+\n",
      "|   Name| Age|Experience| Salary|\n",
      "+-------+----+----------+-------+\n",
      "|    Ram|  23|         5|  40000|\n",
      "|   Sham|  27|         6|  42000|\n",
      "|  Teena|  29|        10|  80000|\n",
      "|  Meena|  22|         2|  25000|\n",
      "|  Reena|  32|        15| 120000|\n",
      "|   Shiv|null|      null|1000000|\n",
      "|Shankar|  36|        22| 150000|\n",
      "+-------+----+----------+-------+\n",
      "\n"
     ]
    }
   ],
   "source": [
    "## subset\n",
    "df_spark.na.drop(how='any',subset=['Name']).show()"
   ]
  },
  {
   "cell_type": "code",
   "execution_count": 12,
   "id": "bdf301e1",
   "metadata": {},
   "outputs": [
    {
     "name": "stdout",
     "output_type": "stream",
     "text": [
      "+-------+----+----------+-------+\n",
      "|   Name| Age|Experience| Salary|\n",
      "+-------+----+----------+-------+\n",
      "|    Ram|  23|         5|  40000|\n",
      "|   Sham|  27|         6|  42000|\n",
      "|  Teena|  29|        10|  80000|\n",
      "|  Meena|  22|         2|  25000|\n",
      "|  Reena|  32|        15| 120000|\n",
      "|   Shiv|null|      null|1000000|\n",
      "|Shankar|  36|        22| 150000|\n",
      "|   null|  21|         2|  25000|\n",
      "|   null|  25|         4|  35000|\n",
      "+-------+----+----------+-------+\n",
      "\n"
     ]
    }
   ],
   "source": [
    "df_spark.show()"
   ]
  },
  {
   "cell_type": "code",
   "execution_count": 14,
   "id": "f0f8a90f",
   "metadata": {},
   "outputs": [
    {
     "name": "stdout",
     "output_type": "stream",
     "text": [
      "+--------------+----+----------+-------+\n",
      "|          Name| Age|Experience| Salary|\n",
      "+--------------+----+----------+-------+\n",
      "|           Ram|  23|         5|  40000|\n",
      "|          Sham|  27|         6|  42000|\n",
      "|         Teena|  29|        10|  80000|\n",
      "|         Meena|  22|         2|  25000|\n",
      "|         Reena|  32|        15| 120000|\n",
      "|          Shiv|null|      null|1000000|\n",
      "|       Shankar|  36|        22| 150000|\n",
      "|Missing Values|  21|         2|  25000|\n",
      "|Missing Values|  25|         4|  35000|\n",
      "+--------------+----+----------+-------+\n",
      "\n"
     ]
    }
   ],
   "source": [
    "###fill the missing values\n",
    "df_spark.na.fill('Missing Values').show()"
   ]
  },
  {
   "cell_type": "code",
   "execution_count": 16,
   "id": "a82f8085",
   "metadata": {},
   "outputs": [
    {
     "name": "stdout",
     "output_type": "stream",
     "text": [
      "+--------------+----+----------+-------+\n",
      "|          Name| Age|Experience| Salary|\n",
      "+--------------+----+----------+-------+\n",
      "|           Ram|  23|         5|  40000|\n",
      "|          Sham|  27|         6|  42000|\n",
      "|         Teena|  29|        10|  80000|\n",
      "|         Meena|  22|         2|  25000|\n",
      "|         Reena|  32|        15| 120000|\n",
      "|          Shiv|null|      null|1000000|\n",
      "|       Shankar|  36|        22| 150000|\n",
      "|Missing Values|  21|         2|  25000|\n",
      "|Missing Values|  25|         4|  35000|\n",
      "+--------------+----+----------+-------+\n",
      "\n"
     ]
    }
   ],
   "source": [
    "df_spark.na.fill('Missing Values',['Age','Name']).show()"
   ]
  },
  {
   "cell_type": "code",
   "execution_count": 17,
   "id": "dade6a68",
   "metadata": {},
   "outputs": [
    {
     "name": "stdout",
     "output_type": "stream",
     "text": [
      "+-------+----+----------+-------+\n",
      "|   Name| Age|Experience| Salary|\n",
      "+-------+----+----------+-------+\n",
      "|    Ram|  23|         5|  40000|\n",
      "|   Sham|  27|         6|  42000|\n",
      "|  Teena|  29|        10|  80000|\n",
      "|  Meena|  22|         2|  25000|\n",
      "|  Reena|  32|        15| 120000|\n",
      "|   Shiv|null|      null|1000000|\n",
      "|Shankar|  36|        22| 150000|\n",
      "|   null|  21|         2|  25000|\n",
      "|   null|  25|         4|  35000|\n",
      "+-------+----+----------+-------+\n",
      "\n"
     ]
    }
   ],
   "source": [
    "df_spark.show()"
   ]
  },
  {
   "cell_type": "code",
   "execution_count": 18,
   "id": "28a96184",
   "metadata": {},
   "outputs": [],
   "source": [
    "### handling missing values by mean, median, mode\n",
    "from pyspark.ml.feature import Imputer\n",
    "imputer = Imputer(\n",
    "    inputCols=['Age', 'Experience', 'Salary'],\n",
    "    outputCols=[\"{}_imputed\".format(c) for c in ['Age','Experience','Salary']]\n",
    "    ).setStrategy(\"mean\")"
   ]
  },
  {
   "cell_type": "code",
   "execution_count": 19,
   "id": "7360cd7d",
   "metadata": {},
   "outputs": [],
   "source": [
    "# Add imputation cols to df\n",
    "df_spark = imputer.fit(df_spark).transform(df_spark)"
   ]
  },
  {
   "cell_type": "code",
   "execution_count": 20,
   "id": "8cea60e1",
   "metadata": {},
   "outputs": [
    {
     "name": "stdout",
     "output_type": "stream",
     "text": [
      "+-------+----+----------+-------+-----------+------------------+--------------+\n",
      "|   Name| Age|Experience| Salary|Age_imputed|Experience_imputed|Salary_imputed|\n",
      "+-------+----+----------+-------+-----------+------------------+--------------+\n",
      "|    Ram|  23|         5|  40000|         23|                 5|         40000|\n",
      "|   Sham|  27|         6|  42000|         27|                 6|         42000|\n",
      "|  Teena|  29|        10|  80000|         29|                10|         80000|\n",
      "|  Meena|  22|         2|  25000|         22|                 2|         25000|\n",
      "|  Reena|  32|        15| 120000|         32|                15|        120000|\n",
      "|   Shiv|null|      null|1000000|         26|                 8|       1000000|\n",
      "|Shankar|  36|        22| 150000|         36|                22|        150000|\n",
      "|   null|  21|         2|  25000|         21|                 2|         25000|\n",
      "|   null|  25|         4|  35000|         25|                 4|         35000|\n",
      "+-------+----+----------+-------+-----------+------------------+--------------+\n",
      "\n"
     ]
    }
   ],
   "source": [
    "df_spark.show()"
   ]
  },
  {
   "cell_type": "code",
   "execution_count": 21,
   "id": "926d28c3",
   "metadata": {},
   "outputs": [],
   "source": [
    "## change the null value in name = missing name\n",
    "df_spark = df_spark.na.fill('Missing name')"
   ]
  },
  {
   "cell_type": "code",
   "execution_count": 22,
   "id": "3b54c5df",
   "metadata": {},
   "outputs": [
    {
     "name": "stdout",
     "output_type": "stream",
     "text": [
      "+------------+----+----------+-------+-----------+------------------+--------------+\n",
      "|        Name| Age|Experience| Salary|Age_imputed|Experience_imputed|Salary_imputed|\n",
      "+------------+----+----------+-------+-----------+------------------+--------------+\n",
      "|         Ram|  23|         5|  40000|         23|                 5|         40000|\n",
      "|        Sham|  27|         6|  42000|         27|                 6|         42000|\n",
      "|       Teena|  29|        10|  80000|         29|                10|         80000|\n",
      "|       Meena|  22|         2|  25000|         22|                 2|         25000|\n",
      "|       Reena|  32|        15| 120000|         32|                15|        120000|\n",
      "|        Shiv|null|      null|1000000|         26|                 8|       1000000|\n",
      "|     Shankar|  36|        22| 150000|         36|                22|        150000|\n",
      "|Missing name|  21|         2|  25000|         21|                 2|         25000|\n",
      "|Missing name|  25|         4|  35000|         25|                 4|         35000|\n",
      "+------------+----+----------+-------+-----------+------------------+--------------+\n",
      "\n"
     ]
    }
   ],
   "source": [
    "df_spark.show()"
   ]
  },
  {
   "cell_type": "markdown",
   "id": "354b85c8",
   "metadata": {},
   "source": [
    "### Great"
   ]
  }
 ],
 "metadata": {
  "kernelspec": {
   "display_name": "Python 3 (ipykernel)",
   "language": "python",
   "name": "python3"
  },
  "language_info": {
   "codemirror_mode": {
    "name": "ipython",
    "version": 3
   },
   "file_extension": ".py",
   "mimetype": "text/x-python",
   "name": "python",
   "nbconvert_exporter": "python",
   "pygments_lexer": "ipython3",
   "version": "3.9.13"
  }
 },
 "nbformat": 4,
 "nbformat_minor": 5
}
