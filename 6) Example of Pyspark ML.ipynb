{
 "cells": [
  {
   "cell_type": "markdown",
   "id": "2aa5f4b3",
   "metadata": {},
   "source": [
    "### Exaple of Mllib"
   ]
  },
  {
   "cell_type": "code",
   "execution_count": 1,
   "id": "802b8b2e",
   "metadata": {},
   "outputs": [],
   "source": [
    "from pyspark.sql import SparkSession\n",
    "spark = SparkSession.builder.appName('Missing').getOrCreate()"
   ]
  },
  {
   "cell_type": "code",
   "execution_count": 29,
   "id": "a3dddd16",
   "metadata": {},
   "outputs": [
    {
     "data": {
      "text/html": [
       "\n",
       "            <div>\n",
       "                <p><b>SparkSession - in-memory</b></p>\n",
       "                \n",
       "        <div>\n",
       "            <p><b>SparkContext</b></p>\n",
       "\n",
       "            <p><a href=\"http://Avnish-Device:4040\">Spark UI</a></p>\n",
       "\n",
       "            <dl>\n",
       "              <dt>Version</dt>\n",
       "                <dd><code>v3.3.2</code></dd>\n",
       "              <dt>Master</dt>\n",
       "                <dd><code>local[*]</code></dd>\n",
       "              <dt>AppName</dt>\n",
       "                <dd><code>Missing</code></dd>\n",
       "            </dl>\n",
       "        </div>\n",
       "        \n",
       "            </div>\n",
       "        "
      ],
      "text/plain": [
       "<pyspark.sql.session.SparkSession at 0x254732106d0>"
      ]
     },
     "execution_count": 29,
     "metadata": {},
     "output_type": "execute_result"
    }
   ],
   "source": [
    "spark"
   ]
  },
  {
   "cell_type": "code",
   "execution_count": 2,
   "id": "da41ea36",
   "metadata": {},
   "outputs": [],
   "source": [
    "## Read the dataset\n",
    "training=spark.read.csv('test7.csv',header=True,inferSchema=True)"
   ]
  },
  {
   "cell_type": "code",
   "execution_count": 3,
   "id": "51aed86b",
   "metadata": {},
   "outputs": [
    {
     "name": "stdout",
     "output_type": "stream",
     "text": [
      "+--------+---+---+------+\n",
      "|    Name|Age|Exp|Salary|\n",
      "+--------+---+---+------+\n",
      "|  Avnish| 22|  3| 30000|\n",
      "|     Ram| 21|  2| 20000|\n",
      "|    Sham| 24|  3| 20000|\n",
      "|    Dham| 26|  3| 30000|\n",
      "|   Manan| 25|  4| 40000|\n",
      "|  Shivam| 27|  6| 60000|\n",
      "| Kashyap| 21|  5| 50000|\n",
      "|Kashyapi| 22|  2| 20000|\n",
      "|  Shilpa| 23|  1| 10000|\n",
      "+--------+---+---+------+\n",
      "\n"
     ]
    }
   ],
   "source": [
    "training.show()"
   ]
  },
  {
   "cell_type": "code",
   "execution_count": 4,
   "id": "9714d145",
   "metadata": {},
   "outputs": [
    {
     "name": "stdout",
     "output_type": "stream",
     "text": [
      "root\n",
      " |-- Name: string (nullable = true)\n",
      " |-- Age: integer (nullable = true)\n",
      " |-- Exp: integer (nullable = true)\n",
      " |-- Salary: integer (nullable = true)\n",
      "\n"
     ]
    }
   ],
   "source": [
    "training.printSchema()"
   ]
  },
  {
   "cell_type": "code",
   "execution_count": 7,
   "id": "70e99061",
   "metadata": {},
   "outputs": [
    {
     "data": {
      "text/plain": [
       "['Name', 'Age', 'Exp', 'Salary']"
      ]
     },
     "execution_count": 7,
     "metadata": {},
     "output_type": "execute_result"
    }
   ],
   "source": [
    "training.columns"
   ]
  },
  {
   "cell_type": "raw",
   "id": "2baf781a",
   "metadata": {},
   "source": [
    "[Age,Experience]----> new feature---->Independent feature"
   ]
  },
  {
   "cell_type": "code",
   "execution_count": 8,
   "id": "940df99c",
   "metadata": {},
   "outputs": [],
   "source": [
    "from pyspark.ml.feature import VectorAssembler"
   ]
  },
  {
   "cell_type": "code",
   "execution_count": 10,
   "id": "31d8bbd3",
   "metadata": {},
   "outputs": [],
   "source": [
    "featureassembler=VectorAssembler(inputCols=[\"Age\",\"Exp\"],outputCol=\"Independent feature\")"
   ]
  },
  {
   "cell_type": "code",
   "execution_count": 11,
   "id": "83e2c706",
   "metadata": {},
   "outputs": [],
   "source": [
    "output=featureassembler.transform(training)"
   ]
  },
  {
   "cell_type": "code",
   "execution_count": 12,
   "id": "9a0ac37b",
   "metadata": {},
   "outputs": [
    {
     "name": "stdout",
     "output_type": "stream",
     "text": [
      "+--------+---+---+------+-------------------+\n",
      "|    Name|Age|Exp|Salary|Independent feature|\n",
      "+--------+---+---+------+-------------------+\n",
      "|  Avnish| 22|  3| 30000|         [22.0,3.0]|\n",
      "|     Ram| 21|  2| 20000|         [21.0,2.0]|\n",
      "|    Sham| 24|  3| 20000|         [24.0,3.0]|\n",
      "|    Dham| 26|  3| 30000|         [26.0,3.0]|\n",
      "|   Manan| 25|  4| 40000|         [25.0,4.0]|\n",
      "|  Shivam| 27|  6| 60000|         [27.0,6.0]|\n",
      "| Kashyap| 21|  5| 50000|         [21.0,5.0]|\n",
      "|Kashyapi| 22|  2| 20000|         [22.0,2.0]|\n",
      "|  Shilpa| 23|  1| 10000|         [23.0,1.0]|\n",
      "+--------+---+---+------+-------------------+\n",
      "\n"
     ]
    }
   ],
   "source": [
    "output.show()"
   ]
  },
  {
   "cell_type": "code",
   "execution_count": 13,
   "id": "e66eba7b",
   "metadata": {},
   "outputs": [
    {
     "data": {
      "text/plain": [
       "['Name', 'Age', 'Exp', 'Salary', 'Independent feature']"
      ]
     },
     "execution_count": 13,
     "metadata": {},
     "output_type": "execute_result"
    }
   ],
   "source": [
    "output.columns"
   ]
  },
  {
   "cell_type": "code",
   "execution_count": 14,
   "id": "035cf4c5",
   "metadata": {},
   "outputs": [],
   "source": [
    "final_data = output.select(,\"Salary\")"
   ]
  },
  {
   "cell_type": "code",
   "execution_count": 15,
   "id": "75ad200e",
   "metadata": {},
   "outputs": [
    {
     "name": "stdout",
     "output_type": "stream",
     "text": [
      "+-------------------+------+\n",
      "|Independent feature|Salary|\n",
      "+-------------------+------+\n",
      "|         [22.0,3.0]| 30000|\n",
      "|         [21.0,2.0]| 20000|\n",
      "|         [24.0,3.0]| 20000|\n",
      "|         [26.0,3.0]| 30000|\n",
      "|         [25.0,4.0]| 40000|\n",
      "|         [27.0,6.0]| 60000|\n",
      "|         [21.0,5.0]| 50000|\n",
      "|         [22.0,2.0]| 20000|\n",
      "|         [23.0,1.0]| 10000|\n",
      "+-------------------+------+\n",
      "\n"
     ]
    }
   ],
   "source": [
    "final_data.show()"
   ]
  },
  {
   "cell_type": "code",
   "execution_count": 23,
   "id": "94275b55",
   "metadata": {},
   "outputs": [],
   "source": [
    "from pyspark.ml.regression import LinearRegression\n",
    "## train test split\n",
    "train_data,test_data=final_data.randomSplit([0.75,0.25])\n",
    "regressor=LinearRegression(featuresCol=\"Independent feature\",labelCol=\"Salary\")\n",
    "regressor=regressor.fit(train_data)"
   ]
  },
  {
   "cell_type": "code",
   "execution_count": 24,
   "id": "ace548d6",
   "metadata": {},
   "outputs": [
    {
     "data": {
      "text/plain": [
       "DenseVector([0.0, 10000.0])"
      ]
     },
     "execution_count": 24,
     "metadata": {},
     "output_type": "execute_result"
    }
   ],
   "source": [
    "## coefficients\n",
    "regressor.coefficients"
   ]
  },
  {
   "cell_type": "code",
   "execution_count": 25,
   "id": "c8dd7cde",
   "metadata": {},
   "outputs": [
    {
     "data": {
      "text/plain": [
       "-5.766865592832038e-10"
      ]
     },
     "execution_count": 25,
     "metadata": {},
     "output_type": "execute_result"
    }
   ],
   "source": [
    "## intercepts\n",
    "regressor.intercept"
   ]
  },
  {
   "cell_type": "code",
   "execution_count": 26,
   "id": "087b079a",
   "metadata": {},
   "outputs": [],
   "source": [
    "## prediction\n",
    "pred = regressor.evaluate(test_data)"
   ]
  },
  {
   "cell_type": "code",
   "execution_count": 27,
   "id": "199ee7c0",
   "metadata": {},
   "outputs": [
    {
     "name": "stdout",
     "output_type": "stream",
     "text": [
      "+-------------------+------+-----------------+\n",
      "|Independent feature|Salary|       prediction|\n",
      "+-------------------+------+-----------------+\n",
      "|         [21.0,5.0]| 50000|49999.99999999985|\n",
      "|         [24.0,3.0]| 20000|30000.00000000002|\n",
      "|         [26.0,3.0]| 30000|30000.00000000008|\n",
      "+-------------------+------+-----------------+\n",
      "\n"
     ]
    }
   ],
   "source": [
    "pred.predictions.show()"
   ]
  },
  {
   "cell_type": "code",
   "execution_count": 28,
   "id": "b0689401",
   "metadata": {},
   "outputs": [
    {
     "data": {
      "text/plain": [
       "(3333.333333333417, 33333333.33333345)"
      ]
     },
     "execution_count": 28,
     "metadata": {},
     "output_type": "execute_result"
    }
   ],
   "source": [
    "pred.meanAbsoluteError,pred.meanSquaredError"
   ]
  },
  {
   "cell_type": "markdown",
   "id": "f9c69283",
   "metadata": {},
   "source": [
    "### Great"
   ]
  }
 ],
 "metadata": {
  "kernelspec": {
   "display_name": "Python 3 (ipykernel)",
   "language": "python",
   "name": "python3"
  },
  "language_info": {
   "codemirror_mode": {
    "name": "ipython",
    "version": 3
   },
   "file_extension": ".py",
   "mimetype": "text/x-python",
   "name": "python",
   "nbconvert_exporter": "python",
   "pygments_lexer": "ipython3",
   "version": "3.9.13"
  }
 },
 "nbformat": 4,
 "nbformat_minor": 5
}
