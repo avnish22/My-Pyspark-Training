{
 "cells": [
  {
   "cell_type": "raw",
   "id": "52c057ec",
   "metadata": {},
   "source": [
    "####In this-\n",
    "--Pyspark DataFrame\n",
    "--Reading the Dataset\n",
    "--Checking the Datatypes of the column(Schema)\n",
    "--Selecting Columns and Indexing\n",
    "--Check Describes option similar to Pandas\n",
    "--Adding Columns\n",
    "--Dropping Columns\n",
    "--Renaming columns"
   ]
  },
  {
   "cell_type": "code",
   "execution_count": 3,
   "id": "c7862e81",
   "metadata": {},
   "outputs": [],
   "source": [
    "spark = SparkSession.builder.appName('DataFrame').getOrCreate()"
   ]
  },
  {
   "cell_type": "code",
   "execution_count": 4,
   "id": "1baf0d02",
   "metadata": {},
   "outputs": [
    {
     "data": {
      "text/html": [
       "\n",
       "            <div>\n",
       "                <p><b>SparkSession - in-memory</b></p>\n",
       "                \n",
       "        <div>\n",
       "            <p><b>SparkContext</b></p>\n",
       "\n",
       "            <p><a href=\"http://Avnish-Device:4040\">Spark UI</a></p>\n",
       "\n",
       "            <dl>\n",
       "              <dt>Version</dt>\n",
       "                <dd><code>v3.3.2</code></dd>\n",
       "              <dt>Master</dt>\n",
       "                <dd><code>local[*]</code></dd>\n",
       "              <dt>AppName</dt>\n",
       "                <dd><code>DataFrame</code></dd>\n",
       "            </dl>\n",
       "        </div>\n",
       "        \n",
       "            </div>\n",
       "        "
      ],
      "text/plain": [
       "<pyspark.sql.session.SparkSession at 0x204a529ab20>"
      ]
     },
     "execution_count": 4,
     "metadata": {},
     "output_type": "execute_result"
    }
   ],
   "source": [
    "spark"
   ]
  },
  {
   "cell_type": "code",
   "execution_count": 14,
   "id": "37791005",
   "metadata": {},
   "outputs": [],
   "source": [
    "##read the dataset\n",
    "df_spark=spark.read.option('header','true').csv('test2.csv',inferSchema=True)"
   ]
  },
  {
   "cell_type": "code",
   "execution_count": 15,
   "id": "9e41b9ec",
   "metadata": {},
   "outputs": [
    {
     "name": "stdout",
     "output_type": "stream",
     "text": [
      "root\n",
      " |-- Name: string (nullable = true)\n",
      " |-- Age: integer (nullable = true)\n",
      " |-- Experience: integer (nullable = true)\n",
      "\n"
     ]
    }
   ],
   "source": [
    "##check the schema\n",
    "df_spark.printSchema()"
   ]
  },
  {
   "cell_type": "code",
   "execution_count": 16,
   "id": "ad4ba589",
   "metadata": {},
   "outputs": [],
   "source": [
    "#another way\n",
    "df_spark=spark.read.csv('test2.csv',header=True,inferSchema=True)"
   ]
  },
  {
   "cell_type": "code",
   "execution_count": 17,
   "id": "036ca68b",
   "metadata": {},
   "outputs": [
    {
     "name": "stdout",
     "output_type": "stream",
     "text": [
      "+------+---+----------+\n",
      "|  Name|Age|Experience|\n",
      "+------+---+----------+\n",
      "| Manan| 22|         3|\n",
      "|  Shiv| 32|        10|\n",
      "|Krishn| 19|         1|\n",
      "|   Ram| 24|         5|\n",
      "|  Sham| 22|         3|\n",
      "+------+---+----------+\n",
      "\n"
     ]
    }
   ],
   "source": [
    "df_spark.show()"
   ]
  },
  {
   "cell_type": "code",
   "execution_count": 18,
   "id": "78e1cf5b",
   "metadata": {},
   "outputs": [
    {
     "name": "stdout",
     "output_type": "stream",
     "text": [
      "root\n",
      " |-- Name: string (nullable = true)\n",
      " |-- Age: integer (nullable = true)\n",
      " |-- Experience: integer (nullable = true)\n",
      "\n"
     ]
    }
   ],
   "source": [
    "df_spark.printSchema()"
   ]
  },
  {
   "cell_type": "code",
   "execution_count": 19,
   "id": "e797eb07",
   "metadata": {},
   "outputs": [
    {
     "data": {
      "text/plain": [
       "pyspark.sql.dataframe.DataFrame"
      ]
     },
     "execution_count": 19,
     "metadata": {},
     "output_type": "execute_result"
    }
   ],
   "source": [
    "type(df_spark)"
   ]
  },
  {
   "cell_type": "code",
   "execution_count": 21,
   "id": "16f11073",
   "metadata": {},
   "outputs": [
    {
     "data": {
      "text/plain": [
       "[Row(Name='Manan', Age=22, Experience=3),\n",
       " Row(Name='Shiv', Age=32, Experience=10),\n",
       " Row(Name='Krishn', Age=19, Experience=1)]"
      ]
     },
     "execution_count": 21,
     "metadata": {},
     "output_type": "execute_result"
    }
   ],
   "source": [
    "#selectings columns and indexing\n",
    "df_spark.head(3)"
   ]
  },
  {
   "cell_type": "code",
   "execution_count": 22,
   "id": "a2c04dd4",
   "metadata": {},
   "outputs": [
    {
     "name": "stdout",
     "output_type": "stream",
     "text": [
      "+------+---+----------+\n",
      "|  Name|Age|Experience|\n",
      "+------+---+----------+\n",
      "| Manan| 22|         3|\n",
      "|  Shiv| 32|        10|\n",
      "|Krishn| 19|         1|\n",
      "|   Ram| 24|         5|\n",
      "|  Sham| 22|         3|\n",
      "+------+---+----------+\n",
      "\n"
     ]
    }
   ],
   "source": [
    "df_spark.show()"
   ]
  },
  {
   "cell_type": "code",
   "execution_count": 24,
   "id": "aeeacdb2",
   "metadata": {},
   "outputs": [
    {
     "data": {
      "text/plain": [
       "pyspark.sql.dataframe.DataFrame"
      ]
     },
     "execution_count": 24,
     "metadata": {},
     "output_type": "execute_result"
    }
   ],
   "source": [
    "type(df_spark.select('Name'))"
   ]
  },
  {
   "cell_type": "code",
   "execution_count": 25,
   "id": "9d0b0bd4",
   "metadata": {},
   "outputs": [
    {
     "name": "stdout",
     "output_type": "stream",
     "text": [
      "+------+\n",
      "|  name|\n",
      "+------+\n",
      "| Manan|\n",
      "|  Shiv|\n",
      "|Krishn|\n",
      "|   Ram|\n",
      "|  Sham|\n",
      "+------+\n",
      "\n"
     ]
    }
   ],
   "source": [
    "df_spark.select('name').show()"
   ]
  },
  {
   "cell_type": "code",
   "execution_count": 29,
   "id": "b02a3b7b",
   "metadata": {},
   "outputs": [
    {
     "name": "stdout",
     "output_type": "stream",
     "text": [
      "+------+----------+\n",
      "|  Name|Experience|\n",
      "+------+----------+\n",
      "| Manan|         3|\n",
      "|  Shiv|        10|\n",
      "|Krishn|         1|\n",
      "|   Ram|         5|\n",
      "|  Sham|         3|\n",
      "+------+----------+\n",
      "\n"
     ]
    }
   ],
   "source": [
    "df_spark.select(['Name','Experience']).show()"
   ]
  },
  {
   "cell_type": "code",
   "execution_count": 30,
   "id": "ce44b1b2",
   "metadata": {},
   "outputs": [
    {
     "data": {
      "text/plain": [
       "[('Name', 'string'), ('Age', 'int'), ('Experience', 'int')]"
      ]
     },
     "execution_count": 30,
     "metadata": {},
     "output_type": "execute_result"
    }
   ],
   "source": [
    "df_spark.dtypes"
   ]
  },
  {
   "cell_type": "code",
   "execution_count": 31,
   "id": "7967bfbc",
   "metadata": {},
   "outputs": [
    {
     "data": {
      "text/plain": [
       "DataFrame[summary: string, Name: string, Age: string, Experience: string]"
      ]
     },
     "execution_count": 31,
     "metadata": {},
     "output_type": "execute_result"
    }
   ],
   "source": [
    "##Check Describes option similar to Pandas\n",
    "df_spark.describe()"
   ]
  },
  {
   "cell_type": "code",
   "execution_count": 32,
   "id": "7cf4a1b6",
   "metadata": {},
   "outputs": [
    {
     "name": "stdout",
     "output_type": "stream",
     "text": [
      "+-------+------+-----------------+-----------------+\n",
      "|summary|  Name|              Age|       Experience|\n",
      "+-------+------+-----------------+-----------------+\n",
      "|  count|     5|                5|                5|\n",
      "|   mean|  null|             23.8|              4.4|\n",
      "| stddev|  null|4.919349550499537|3.435112807463534|\n",
      "|    min|Krishn|               19|                1|\n",
      "|    max|  Shiv|               32|               10|\n",
      "+-------+------+-----------------+-----------------+\n",
      "\n"
     ]
    }
   ],
   "source": [
    "df_spark.describe().show()"
   ]
  },
  {
   "cell_type": "code",
   "execution_count": 33,
   "id": "c006eb17",
   "metadata": {},
   "outputs": [
    {
     "name": "stdout",
     "output_type": "stream",
     "text": [
      "+------+---+----------+\n",
      "|  Name|Age|Experience|\n",
      "+------+---+----------+\n",
      "| Manan| 22|         3|\n",
      "|  Shiv| 32|        10|\n",
      "|Krishn| 19|         1|\n",
      "|   Ram| 24|         5|\n",
      "|  Sham| 22|         3|\n",
      "+------+---+----------+\n",
      "\n"
     ]
    }
   ],
   "source": [
    "### Adding Columns in Dataframes\n",
    "df_spark.show()"
   ]
  },
  {
   "cell_type": "code",
   "execution_count": 38,
   "id": "95d9d21f",
   "metadata": {},
   "outputs": [],
   "source": [
    "df_spark = df_spark.withColumn('Exp. After 2 Year',df_spark['Experience']+2)"
   ]
  },
  {
   "cell_type": "code",
   "execution_count": 39,
   "id": "7ac48aac",
   "metadata": {},
   "outputs": [
    {
     "name": "stdout",
     "output_type": "stream",
     "text": [
      "+------+---+----------+-----------------+\n",
      "|  Name|Age|Experience|Exp. After 2 Year|\n",
      "+------+---+----------+-----------------+\n",
      "| Manan| 22|         3|                5|\n",
      "|  Shiv| 32|        10|               12|\n",
      "|Krishn| 19|         1|                3|\n",
      "|   Ram| 24|         5|                7|\n",
      "|  Sham| 22|         3|                5|\n",
      "+------+---+----------+-----------------+\n",
      "\n"
     ]
    }
   ],
   "source": [
    "df_spark.show()"
   ]
  },
  {
   "cell_type": "code",
   "execution_count": 40,
   "id": "d456a3bd",
   "metadata": {},
   "outputs": [],
   "source": [
    "##Dropping Columns in dataframes\n",
    "df_spark = df_spark.drop('Exp. After 2 Year')"
   ]
  },
  {
   "cell_type": "code",
   "execution_count": 41,
   "id": "86160176",
   "metadata": {},
   "outputs": [
    {
     "name": "stdout",
     "output_type": "stream",
     "text": [
      "+------+---+----------+\n",
      "|  Name|Age|Experience|\n",
      "+------+---+----------+\n",
      "| Manan| 22|         3|\n",
      "|  Shiv| 32|        10|\n",
      "|Krishn| 19|         1|\n",
      "|   Ram| 24|         5|\n",
      "|  Sham| 22|         3|\n",
      "+------+---+----------+\n",
      "\n"
     ]
    }
   ],
   "source": [
    "df_spark.show()"
   ]
  },
  {
   "cell_type": "code",
   "execution_count": 42,
   "id": "c63ba5bb",
   "metadata": {},
   "outputs": [],
   "source": [
    "##Rename the columns\n",
    "df_spark = df_spark.withColumnRenamed('Name','Emplyee name')"
   ]
  },
  {
   "cell_type": "code",
   "execution_count": 43,
   "id": "645982a4",
   "metadata": {},
   "outputs": [
    {
     "name": "stdout",
     "output_type": "stream",
     "text": [
      "+------------+---+----------+\n",
      "|Emplyee name|Age|Experience|\n",
      "+------------+---+----------+\n",
      "|       Manan| 22|         3|\n",
      "|        Shiv| 32|        10|\n",
      "|      Krishn| 19|         1|\n",
      "|         Ram| 24|         5|\n",
      "|        Sham| 22|         3|\n",
      "+------------+---+----------+\n",
      "\n"
     ]
    }
   ],
   "source": [
    "df_spark.show()"
   ]
  },
  {
   "cell_type": "markdown",
   "id": "23cc5e6a",
   "metadata": {},
   "source": [
    "Great"
   ]
  }
 ],
 "metadata": {
  "kernelspec": {
   "display_name": "Python 3 (ipykernel)",
   "language": "python",
   "name": "python3"
  },
  "language_info": {
   "codemirror_mode": {
    "name": "ipython",
    "version": 3
   },
   "file_extension": ".py",
   "mimetype": "text/x-python",
   "name": "python",
   "nbconvert_exporter": "python",
   "pygments_lexer": "ipython3",
   "version": "3.9.13"
  }
 },
 "nbformat": 4,
 "nbformat_minor": 5
}
